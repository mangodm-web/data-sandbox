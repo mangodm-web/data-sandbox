{
 "cells": [
  {
   "cell_type": "markdown",
   "id": "51910ed0-7815-474d-b70b-89ae36bc2878",
   "metadata": {},
   "source": [
    "# Countries Pipeline(v1)\n",
    "\n",
    "## TODO\n",
    "\n",
    "1. [전 세계 국가에 대한 정보를 제공하는 API](https://restcountries.com/#rest-countries)로부터 데이터를 수집하여 필요한 필드만 추출하고, Redshift에 적재한다.\n",
    "2. 기존 테이블의 모든 데이터를 지우고, 새 데이터를 처음부터 다시 채우는 방법인 Full Refresh 방법으로 구현한다.\n",
    "3. 간단한 프로토타입을 만드는 것을 목표이기 때문에 최소한의 작업만 진행한다."
   ]
  },
  {
   "cell_type": "code",
   "execution_count": 3,
   "id": "990d0c3c-4506-4db0-8665-de5cbd072194",
   "metadata": {},
   "outputs": [],
   "source": [
    "!pip install -r ../requirements.txt > install.log 2>&1"
   ]
  },
  {
   "cell_type": "code",
   "execution_count": 2,
   "id": "3dfe3495-618c-4421-8452-54e0922f8061",
   "metadata": {},
   "outputs": [],
   "source": [
    "import requests\n",
    "import pprint\n",
    "from dotenv import load_dotenv\n",
    "import os\n",
    "import psycopg2"
   ]
  },
  {
   "cell_type": "code",
   "execution_count": 3,
   "id": "e9f39d56-4421-48e2-9e72-333473b8a13f",
   "metadata": {},
   "outputs": [],
   "source": [
    "load_dotenv()\n",
    "\n",
    "host = os.getenv(\"REDSHIFT_HOST\")\n",
    "port = os.getenv(\"REDSHIFT_PORT\")\n",
    "dbname = os.getenv(\"REDSHIFT_DBNAME\")\n",
    "user = os.getenv(\"REDSHIFT_USER\")\n",
    "password = os.getenv(\"REDSHIFT_PASSWORD\")"
   ]
  },
  {
   "cell_type": "code",
   "execution_count": 4,
   "id": "18791f2d-a0ea-49f5-b6bf-959bbdb77626",
   "metadata": {},
   "outputs": [],
   "source": [
    "link = \"https://restcountries.com/v3/all\"\n",
    "\n",
    "response = requests.get(link)\n",
    "records = response.json()"
   ]
  },
  {
   "cell_type": "code",
   "execution_count": 5,
   "id": "22ae9ce4-f061-4376-a78f-0dd930da980e",
   "metadata": {},
   "outputs": [
    {
     "name": "stdout",
     "output_type": "stream",
     "text": [
      "{'name': {'common': 'Gibraltar',\n",
      "          'official': 'Gibraltar',\n",
      "          'nativeName': {'eng': {'official': 'Gibraltar',\n",
      "                                 'common': 'Gibraltar'}}},\n",
      " 'tld': ['.gi'],\n",
      " 'cca2': 'GI',\n",
      " 'ccn3': '292',\n",
      " 'cca3': 'GIB',\n",
      " 'independent': False,\n",
      " 'status': 'officially-assigned',\n",
      " 'unMember': False,\n",
      " 'currencies': {'GIP': {'name': 'Gibraltar pound', 'symbol': '£'}},\n",
      " 'idd': {'root': '+3', 'suffixes': ['50']},\n",
      " 'capital': ['Gibraltar'],\n",
      " 'altSpellings': ['GI'],\n",
      " 'region': 'Europe',\n",
      " 'subregion': 'Southern Europe',\n",
      " 'languages': {'eng': 'English'},\n",
      " 'translations': {'ara': {'official': 'جبل طارق', 'common': 'جبل طارق'},\n",
      "                  'bre': {'official': 'Jibraltar', 'common': 'Jibraltar'},\n",
      "                  'ces': {'official': 'Gibraltar', 'common': 'Gibraltar'},\n",
      "                  'cym': {'official': 'Gibraltar', 'common': 'Gibraltar'},\n",
      "                  'deu': {'official': 'Gibraltar', 'common': 'Gibraltar'},\n",
      "                  'est': {'official': 'Gibraltar', 'common': 'Gibraltar'},\n",
      "                  'fin': {'official': 'Gibraltar', 'common': 'Gibraltar'},\n",
      "                  'fra': {'official': 'Gibraltar', 'common': 'Gibraltar'},\n",
      "                  'hrv': {'official': 'Gibraltar', 'common': 'Gibraltar'},\n",
      "                  'hun': {'official': 'Gibraltár', 'common': 'Gibraltár'},\n",
      "                  'ita': {'official': 'Gibilterra', 'common': 'Gibilterra'},\n",
      "                  'jpn': {'official': 'ジブラルタル', 'common': 'ジブラルタル'},\n",
      "                  'kor': {'official': '지브롤터', 'common': '지브롤터'},\n",
      "                  'nld': {'official': 'Gibraltar', 'common': 'Gibraltar'},\n",
      "                  'per': {'official': 'جبل طارق', 'common': 'جبل طارق'},\n",
      "                  'pol': {'official': 'Gibraltar', 'common': 'Gibraltar'},\n",
      "                  'por': {'official': 'Gibraltar', 'common': 'Gibraltar'},\n",
      "                  'rus': {'official': 'Гибралтар', 'common': 'Гибралтар'},\n",
      "                  'slk': {'official': 'Gibraltár', 'common': 'Gibraltár'},\n",
      "                  'spa': {'official': 'Gibraltar', 'common': 'Gibraltar'},\n",
      "                  'swe': {'official': 'Gibraltar', 'common': 'Gibraltar'},\n",
      "                  'urd': {'official': 'جبل الطارق', 'common': 'جبل الطارق'},\n",
      "                  'zho': {'official': '直布罗陀', 'common': '直布罗陀'}},\n",
      " 'latlng': [36.13333333, -5.35],\n",
      " 'landlocked': False,\n",
      " 'borders': ['ESP'],\n",
      " 'area': 6.0,\n",
      " 'demonyms': {'eng': {'f': 'Gibraltar', 'm': 'Gibraltar'},\n",
      "              'fra': {'f': 'Gibraltarienne', 'm': 'Gibraltarien'}},\n",
      " 'flag': '🇬🇮',\n",
      " 'maps': {'googleMaps': 'https://goo.gl/maps/CEoHAs1t6byCBhHFA',\n",
      "          'openStreetMaps': 'https://www.openstreetmap.org/relation/1278736'},\n",
      " 'population': 33691,\n",
      " 'fifa': 'GIB',\n",
      " 'car': {'signs': ['GBZ'], 'side': 'right'},\n",
      " 'timezones': ['UTC+01:00'],\n",
      " 'continents': ['Europe'],\n",
      " 'flags': ['https://flagcdn.com/gi.svg', 'https://flagcdn.com/w320/gi.png']}\n"
     ]
    }
   ],
   "source": [
    "sample_record = records[0]\n",
    "\n",
    "pprint.pp(sample_record)"
   ]
  },
  {
   "cell_type": "code",
   "execution_count": 6,
   "id": "11a4315b-d0b7-4cc0-b69a-3ed57de0570b",
   "metadata": {},
   "outputs": [
    {
     "name": "stdout",
     "output_type": "stream",
     "text": [
      "country: Gibraltar\n",
      "population: 33691\n",
      "area: 6.0\n"
     ]
    }
   ],
   "source": [
    "country = sample_record[\"name\"][\"official\"]\n",
    "\n",
    "population = sample_record[\"population\"]\n",
    "\n",
    "area = sample_record[\"area\"]\n",
    "\n",
    "print(f\"\"\"country: {country}\n",
    "population: {population}\n",
    "area: {area}\"\"\")"
   ]
  },
  {
   "cell_type": "code",
   "execution_count": 7,
   "id": "e9c546a7-a56d-476e-b7db-9d81d99f9f9c",
   "metadata": {},
   "outputs": [],
   "source": [
    "conn = psycopg2.connect(\n",
    "    host=host,\n",
    "    port=port,\n",
    "    dbname=dbname,\n",
    "    user=user,\n",
    "    password=password\n",
    ")\n",
    "conn.autocommit = True\n",
    "\n",
    "cur = conn.cursor()\n",
    "\n",
    "drop_table_query = \"\"\"\n",
    "DROP TABLE IF EXISTS dmhuh1003.country;\n",
    "\"\"\"\n",
    "\n",
    "cur.execute(drop_table_query)\n",
    "\n",
    "create_table_query = \"\"\"\n",
    "CREATE TABLE IF NOT EXISTS dmhuh1003.country (\n",
    "    name VARCHAR(128),\n",
    "    population INTEGER,\n",
    "    area REAL\n",
    ");\n",
    "\"\"\"\n",
    "\n",
    "cur.execute(create_table_query)"
   ]
  },
  {
   "cell_type": "code",
   "execution_count": null,
   "id": "18838308-2057-442f-8cb5-fe57c50a8d1b",
   "metadata": {},
   "outputs": [],
   "source": [
    "for record in records:\n",
    "    country = record[\"name\"][\"official\"]\n",
    "    population = record[\"population\"]\n",
    "    area = record[\"area\"]\n",
    "\n",
    "    data = (country, population, area)\n",
    "\n",
    "    insert_query = \"\"\"\n",
    "    INSERT INTO dmhuh1003.country (name, population, area)\n",
    "    VALUES (%s, %s, %s);\n",
    "    \"\"\"\n",
    "\n",
    "    cur.execute(insert_query, data)"
   ]
  },
  {
   "cell_type": "markdown",
   "id": "57800232-f366-4c84-8fdf-d04b7d1d1684",
   "metadata": {},
   "source": [
    "## Next Steps\n",
    "\n",
    "1. 기능별 코드 분리\n",
    "\n",
    "    지금 코드는 하나의 스크립트 형태로 작성되어 있어서 전체 흐름을 파악하기가 어렵다. 주요 기능을 함수로 분리하면 가독성도 좋아지고, 코드 구조도 명확해질 것 같다.\n",
    "\n",
    "2. 트랜잭션 적용\n",
    "   \n",
    "   여기서 테이블을 삭제하고, 생성하고, 데이터를 넣는 작업은 하나의 논리적 단위를 이루는 과정이다. 하지만 현재는 각 쿼리가 개별적으로 실행되기 때문에, 중간에 오류가 발생하면 데이터의 일관성이 깨질 위험이 있다. 오류가 생기면 전체 작업을 롤백하여 데이터를 무결성을 유지할 수 있도록 트랜잭션을 적용하는 게 좋겠다.\n",
    "\n",
    "3. 로깅 추가\n",
    "\n",
    "    지금 코드는 실행 중에 어떤 작업이 진행되고 있는지 파악하기가 어렵다. 각 단계에서 진행 상황과 오류를 로깅하면 디버깅이나 유지 보수가 훨씬 수월해질 것 같다."
   ]
  }
 ],
 "metadata": {
  "kernelspec": {
   "display_name": "Python 3 (ipykernel)",
   "language": "python",
   "name": "python3"
  },
  "language_info": {
   "codemirror_mode": {
    "name": "ipython",
    "version": 3
   },
   "file_extension": ".py",
   "mimetype": "text/x-python",
   "name": "python",
   "nbconvert_exporter": "python",
   "pygments_lexer": "ipython3",
   "version": "3.12.6"
  }
 },
 "nbformat": 4,
 "nbformat_minor": 5
}
